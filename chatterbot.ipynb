{
  "nbformat": 4,
  "nbformat_minor": 0,
  "metadata": {
    "colab": {
      "name": "chatterbot.ipynb",
      "provenance": [],
      "toc_visible": true,
      "authorship_tag": "ABX9TyOKUAQQJpKU5+B480f9he8R",
      "include_colab_link": true
    },
    "kernelspec": {
      "name": "python3",
      "display_name": "Python 3"
    }
  },
  "cells": [
    {
      "cell_type": "markdown",
      "metadata": {
        "id": "view-in-github",
        "colab_type": "text"
      },
      "source": [
        "<a href=\"https://colab.research.google.com/github/DucTaiNguyen/hello/blob/master/chatterbot.ipynb\" target=\"_parent\"><img src=\"https://colab.research.google.com/assets/colab-badge.svg\" alt=\"Open In Colab\"/></a>"
      ]
    },
    {
      "cell_type": "code",
      "metadata": {
        "id": "ZwFBr-znPTlI",
        "colab_type": "code",
        "colab": {}
      },
      "source": [
        "!pip install chatterbot"
      ],
      "execution_count": 0,
      "outputs": []
    },
    {
      "cell_type": "code",
      "metadata": {
        "id": "CPKtA9tPRuzW",
        "colab_type": "code",
        "colab": {}
      },
      "source": [
        "!pip show chatterbot"
      ],
      "execution_count": 0,
      "outputs": []
    },
    {
      "cell_type": "code",
      "metadata": {
        "id": "7zBNh_P6R7sI",
        "colab_type": "code",
        "colab": {}
      },
      "source": [
        "!pip install chatterbot-corpus"
      ],
      "execution_count": 0,
      "outputs": []
    },
    {
      "cell_type": "code",
      "metadata": {
        "id": "BbU_p0__Tk8d",
        "colab_type": "code",
        "colab": {}
      },
      "source": [
        "!pip install pyttsx3"
      ],
      "execution_count": 0,
      "outputs": []
    },
    {
      "cell_type": "code",
      "metadata": {
        "id": "QSiKXfPgS7Bb",
        "colab_type": "code",
        "colab": {}
      },
      "source": [
        "from tkinter import*"
      ],
      "execution_count": 0,
      "outputs": []
    },
    {
      "cell_type": "code",
      "metadata": {
        "id": "cKlphl0UTQwI",
        "colab_type": "code",
        "colab": {}
      },
      "source": [
        "import pyttsx3 as pp"
      ],
      "execution_count": 0,
      "outputs": []
    },
    {
      "cell_type": "code",
      "metadata": {
        "id": "_kakRQNwcKSD",
        "colab_type": "code",
        "outputId": "ccacaee9-3c53-4299-ec35-3fc24902d5c1",
        "colab": {
          "base_uri": "https://localhost:8080/",
          "height": 153
        }
      },
      "source": [
        "from chatterbot import ChatBot\n",
        "from chatterbot.trainers import ListTrainer\n",
        "\n",
        "# Create a new chat bot named Charlie\n",
        "chatbot = ChatBot('ke huy diet')\n",
        "\n",
        "trainer = ListTrainer(chatbot)\n",
        "\n",
        "trainer.train([\n",
        "    \"xin chao ban\",\n",
        "    \"ban can toi giup do gi\",\n",
        "    \"toi muon tu van tuyen sinh\",\n",
        "    \"ban vui long xem thong tin o day\",\n",
        "    \"xin chao ban\",\n",
        "    \"Ban can toi giup do gi\",\n",
        "    \"cam on\",\n",
        "    \"khong co chi\"\n",
        "    \"ban ten gi?\",\n",
        "    \"toi ten ke huy diet\",\n",
        "    \"toi muon tu van tuyen sinh\",\n",
        "    \"ban vui long xem thong tin o day\",\n",
        "    \"ban ten gi?\",\n",
        "    \"toi ten ke huy diet\",\n",
        "    \"ban khoe khong?\",\n",
        "    \"toi khoe, con ban?\",\n",
        "     \"cam on\",\n",
        "    \"khong co chi\",\n",
        "     \"ban khoe khong?\",\n",
        "    \"toi khoe, con ban?\",\n",
        "\n",
        "\n",
        "])\n",
        "\n",
        "# Get a response to the input text 'ban ten gi '\n",
        "response = chatbot.get_response('ban khoe khong?')\n",
        "\n",
        "print(response)"
      ],
      "execution_count": 26,
      "outputs": [
        {
          "output_type": "stream",
          "text": [
            "[nltk_data] Downloading package stopwords to /root/nltk_data...\n",
            "[nltk_data]   Package stopwords is already up-to-date!\n",
            "[nltk_data] Downloading package averaged_perceptron_tagger to\n",
            "[nltk_data]     /root/nltk_data...\n",
            "[nltk_data]   Package averaged_perceptron_tagger is already up-to-\n",
            "[nltk_data]       date!\n",
            "List Trainer: [####################] 100%\n",
            "toi khoe, con ban?\n"
          ],
          "name": "stdout"
        }
      ]
    },
    {
      "cell_type": "markdown",
      "metadata": {
        "id": "5nfWnKUj0yDR",
        "colab_type": "text"
      },
      "source": [
        ""
      ]
    }
  ]
}